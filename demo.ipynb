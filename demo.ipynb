{
 "cells": [
  {
   "cell_type": "code",
   "execution_count": null,
   "metadata": {
    "colab": {
     "base_uri": "https://localhost:8080/",
     "height": 34
    },
    "colab_type": "code",
    "executionInfo": {
     "elapsed": 575,
     "status": "ok",
     "timestamp": 1586341582703,
     "user": {
      "displayName": "Roman Kalivoda",
      "photoUrl": "https://lh3.googleusercontent.com/a-/AOh14Gg8XtJTXdQr3CEPkW2lLEl7SqU_xSvu_BLa6FDS=s64",
      "userId": "16852295486388082819"
     },
     "user_tz": -120
    },
    "id": "gcOxTC6H7SMO",
    "outputId": "3654983a-9207-4278-9b24-bd258ecade9b"
   },
   "outputs": [],
   "source": [
    "import sys\n",
    "from google.colab import drive\n",
    "drive.mount('/content/drive')\n",
    "sys.path.append('/content/drive/My Drive/GitHub/MNIST_usecase/')"
   ]
  },
  {
   "cell_type": "code",
   "execution_count": null,
   "metadata": {
    "colab": {
     "base_uri": "https://localhost:8080/",
     "height": 709
    },
    "colab_type": "code",
    "executionInfo": {
     "elapsed": 3523,
     "status": "ok",
     "timestamp": 1586339261238,
     "user": {
      "displayName": "Roman Kalivoda",
      "photoUrl": "https://lh3.googleusercontent.com/a-/AOh14Gg8XtJTXdQr3CEPkW2lLEl7SqU_xSvu_BLa6FDS=s64",
      "userId": "16852295486388082819"
     },
     "user_tz": -120
    },
    "id": "qLa7hE8-_3wh",
    "outputId": "b4b8849e-1bf1-4c94-a7ad-ba561ce5352d"
   },
   "outputs": [],
   "source": [
    "# if SNN-Toolbox is not installed yet, run this cell\n",
    "# !git clone https://github.com/NeuromorphicProcessorProject/snn_toolbox.git\n",
    "# !pip install ./snn_toolbox/\n",
    "!pip install git+https://github.com/NeuromorphicProcessorProject/snn_toolbox.git#egg=snntoolbox\n",
    "!pip install pyNN\n"
   ]
  },
  {
   "cell_type": "code",
   "execution_count": null,
   "metadata": {
    "colab": {
     "base_uri": "https://localhost:8080/",
     "height": 354
    },
    "colab_type": "code",
    "executionInfo": {
     "elapsed": 2545,
     "status": "error",
     "timestamp": 1586339732974,
     "user": {
      "displayName": "Roman Kalivoda",
      "photoUrl": "https://lh3.googleusercontent.com/a-/AOh14Gg8XtJTXdQr3CEPkW2lLEl7SqU_xSvu_BLa6FDS=s64",
      "userId": "16852295486388082819"
     },
     "user_tz": -120
    },
    "id": "vu_mVQfK6LjC",
    "outputId": "6958e383-7b27-4f38-f72b-d06cb1fff200"
   },
   "outputs": [],
   "source": [
    "import train_keras\n",
    "\n",
    "path_wd = train_keras.train()"
   ]
  },
  {
   "cell_type": "code",
   "execution_count": null,
   "metadata": {
    "colab": {
     "base_uri": "https://localhost:8080/",
     "height": 525
    },
    "colab_type": "code",
    "executionInfo": {
     "elapsed": 3711,
     "status": "error",
     "timestamp": 1586341589172,
     "user": {
      "displayName": "Roman Kalivoda",
      "photoUrl": "https://lh3.googleusercontent.com/a-/AOh14Gg8XtJTXdQr3CEPkW2lLEl7SqU_xSvu_BLa6FDS=s64",
      "userId": "16852295486388082819"
     },
     "user_tz": -120
    },
    "id": "XA3MfjFfN8pZ",
    "outputId": "e079778c-44b8-4f7b-ac54-292622abdba6"
   },
   "outputs": [],
   "source": [
    "import sim_snntb\n",
    "\n",
    "path_wd = '/content/drive/My Drive/GitHub/MNIST_usecase/temp/1586339264.9212413'\n",
    "sim_snntb.config_and_sim(path_wd)"
   ]
  }
 ],
 "metadata": {
  "colab": {
   "name": "demo.ipynb",
   "provenance": []
  },
  "kernelspec": {
   "display_name": "Python 3",
   "language": "python",
   "name": "python3"
  },
  "language_info": {
   "codemirror_mode": {
    "name": "ipython",
    "version": 3
   },
   "file_extension": ".py",
   "mimetype": "text/x-python",
   "name": "python",
   "nbconvert_exporter": "python",
   "pygments_lexer": "ipython3",
   "version": "3.7.7"
  }
 },
 "nbformat": 4,
 "nbformat_minor": 1
}

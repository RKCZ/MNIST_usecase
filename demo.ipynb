{
 "cells": [
  {
   "cell_type": "code",
   "execution_count": 2,
   "metadata": {},
   "outputs": [
    {
     "name": "stdout",
     "output_type": "stream",
     "text": [
      "Obtaining snntoolbox from git+https://github.com/NeuromorphicProcessorProject/snn_toolbox.git#egg=snntoolbox\n",
      "  Updating c:\\users\\kaliv\\university\\bc\\2019-2020\\bp\\src\\mnist_usecase\\src\\snntoolbox clone\n",
      "Requirement already satisfied: future in c:\\users\\kaliv\\.conda\\envs\\nengo\\lib\\site-packages (from snntoolbox) (0.18.2)\n",
      "Requirement already satisfied: numpy in c:\\users\\kaliv\\.conda\\envs\\nengo\\lib\\site-packages (from snntoolbox) (1.18.1)\n",
      "Requirement already satisfied: tensorflow in c:\\users\\kaliv\\.conda\\envs\\nengo\\lib\\site-packages (from snntoolbox) (2.1.0)\n",
      "Requirement already satisfied: keras in c:\\users\\kaliv\\.conda\\envs\\nengo\\lib\\site-packages (from snntoolbox) (2.3.1)\n",
      "Requirement already satisfied: opt-einsum>=2.3.2 in c:\\users\\kaliv\\.conda\\envs\\nengo\\lib\\site-packages (from tensorflow->snntoolbox) (3.1.0)\n",
      "Requirement already satisfied: tensorflow-estimator<2.2.0,>=2.1.0rc0 in c:\\users\\kaliv\\.conda\\envs\\nengo\\lib\\site-packages (from tensorflow->snntoolbox) (2.1.0)\n",
      "Requirement already satisfied: keras-applications>=1.0.8 in c:\\users\\kaliv\\.conda\\envs\\nengo\\lib\\site-packages (from tensorflow->snntoolbox) (1.0.8)\n",
      "Requirement already satisfied: gast==0.2.2 in c:\\users\\kaliv\\.conda\\envs\\nengo\\lib\\site-packages (from tensorflow->snntoolbox) (0.2.2)\n",
      "Requirement already satisfied: keras-preprocessing>=1.1.0 in c:\\users\\kaliv\\.conda\\envs\\nengo\\lib\\site-packages (from tensorflow->snntoolbox) (1.1.0)\n",
      "Requirement already satisfied: scipy==1.4.1; python_version >= \"3\" in c:\\users\\kaliv\\.conda\\envs\\nengo\\lib\\site-packages (from tensorflow->snntoolbox) (1.4.1)\n",
      "Requirement already satisfied: protobuf>=3.8.0 in c:\\users\\kaliv\\.conda\\envs\\nengo\\lib\\site-packages (from tensorflow->snntoolbox) (3.11.4)\n",
      "Requirement already satisfied: grpcio>=1.8.6 in c:\\users\\kaliv\\.conda\\envs\\nengo\\lib\\site-packages (from tensorflow->snntoolbox) (1.27.2)\n",
      "Requirement already satisfied: wrapt>=1.11.1 in c:\\users\\kaliv\\.conda\\envs\\nengo\\lib\\site-packages (from tensorflow->snntoolbox) (1.12.1)\n",
      "Requirement already satisfied: google-pasta>=0.1.6 in c:\\users\\kaliv\\.conda\\envs\\nengo\\lib\\site-packages (from tensorflow->snntoolbox) (0.2.0)\n",
      "Requirement already satisfied: absl-py>=0.7.0 in c:\\users\\kaliv\\.conda\\envs\\nengo\\lib\\site-packages (from tensorflow->snntoolbox) (0.9.0)\n",
      "Requirement already satisfied: wheel>=0.26; python_version >= \"3\" in c:\\users\\kaliv\\.conda\\envs\\nengo\\lib\\site-packages (from tensorflow->snntoolbox) (0.34.2)\n",
      "Requirement already satisfied: six>=1.12.0 in c:\\users\\kaliv\\.conda\\envs\\nengo\\lib\\site-packages (from tensorflow->snntoolbox) (1.14.0)\n",
      "Requirement already satisfied: termcolor>=1.1.0 in c:\\users\\kaliv\\.conda\\envs\\nengo\\lib\\site-packages (from tensorflow->snntoolbox) (1.1.0)\n",
      "Requirement already satisfied: astor>=0.6.0 in c:\\users\\kaliv\\.conda\\envs\\nengo\\lib\\site-packages (from tensorflow->snntoolbox) (0.8.0)\n",
      "Requirement already satisfied: tensorboard<2.2.0,>=2.1.0 in c:\\users\\kaliv\\.conda\\envs\\nengo\\lib\\site-packages (from tensorflow->snntoolbox) (2.1.0)\n",
      "Requirement already satisfied: pyyaml in c:\\users\\kaliv\\.conda\\envs\\nengo\\lib\\site-packages (from keras->snntoolbox) (5.3.1)\n",
      "Requirement already satisfied: h5py in c:\\users\\kaliv\\.conda\\envs\\nengo\\lib\\site-packages (from keras->snntoolbox) (2.10.0)\n",
      "Requirement already satisfied: setuptools in c:\\users\\kaliv\\.conda\\envs\\nengo\\lib\\site-packages (from protobuf>=3.8.0->tensorflow->snntoolbox) (46.1.3.post20200330)\n",
      "Requirement already satisfied: google-auth-oauthlib<0.5,>=0.4.1 in c:\\users\\kaliv\\.conda\\envs\\nengo\\lib\\site-packages (from tensorboard<2.2.0,>=2.1.0->tensorflow->snntoolbox) (0.4.1)\n",
      "Requirement already satisfied: werkzeug>=0.11.15 in c:\\users\\kaliv\\.conda\\envs\\nengo\\lib\\site-packages (from tensorboard<2.2.0,>=2.1.0->tensorflow->snntoolbox) (0.14.1)\n",
      "Requirement already satisfied: google-auth<2,>=1.6.3 in c:\\users\\kaliv\\.conda\\envs\\nengo\\lib\\site-packages (from tensorboard<2.2.0,>=2.1.0->tensorflow->snntoolbox) (1.11.2)\n",
      "Requirement already satisfied: requests<3,>=2.21.0 in c:\\users\\kaliv\\.conda\\envs\\nengo\\lib\\site-packages (from tensorboard<2.2.0,>=2.1.0->tensorflow->snntoolbox) (2.23.0)\n",
      "Requirement already satisfied: markdown>=2.6.8 in c:\\users\\kaliv\\.conda\\envs\\nengo\\lib\\site-packages (from tensorboard<2.2.0,>=2.1.0->tensorflow->snntoolbox) (3.1.1)\n",
      "Requirement already satisfied: requests-oauthlib>=0.7.0 in c:\\users\\kaliv\\.conda\\envs\\nengo\\lib\\site-packages (from google-auth-oauthlib<0.5,>=0.4.1->tensorboard<2.2.0,>=2.1.0->tensorflow->snntoolbox) (1.3.0)\n",
      "Requirement already satisfied: rsa<4.1,>=3.1.4 in c:\\users\\kaliv\\.conda\\envs\\nengo\\lib\\site-packages (from google-auth<2,>=1.6.3->tensorboard<2.2.0,>=2.1.0->tensorflow->snntoolbox) (4.0)\n",
      "Requirement already satisfied: cachetools<5.0,>=2.0.0 in c:\\users\\kaliv\\.conda\\envs\\nengo\\lib\\site-packages (from google-auth<2,>=1.6.3->tensorboard<2.2.0,>=2.1.0->tensorflow->snntoolbox) (3.1.1)\n",
      "Requirement already satisfied: pyasn1-modules>=0.2.1 in c:\\users\\kaliv\\.conda\\envs\\nengo\\lib\\site-packages (from google-auth<2,>=1.6.3->tensorboard<2.2.0,>=2.1.0->tensorflow->snntoolbox) (0.2.7)\n",
      "Requirement already satisfied: urllib3!=1.25.0,!=1.25.1,<1.26,>=1.21.1 in c:\\users\\kaliv\\.conda\\envs\\nengo\\lib\\site-packages (from requests<3,>=2.21.0->tensorboard<2.2.0,>=2.1.0->tensorflow->snntoolbox) (1.25.8)\n",
      "Requirement already satisfied: chardet<4,>=3.0.2 in c:\\users\\kaliv\\.conda\\envs\\nengo\\lib\\site-packages (from requests<3,>=2.21.0->tensorboard<2.2.0,>=2.1.0->tensorflow->snntoolbox) (3.0.4)\n",
      "Requirement already satisfied: idna<3,>=2.5 in c:\\users\\kaliv\\.conda\\envs\\nengo\\lib\\site-packages (from requests<3,>=2.21.0->tensorboard<2.2.0,>=2.1.0->tensorflow->snntoolbox) (2.9)\n",
      "Requirement already satisfied: certifi>=2017.4.17 in c:\\users\\kaliv\\.conda\\envs\\nengo\\lib\\site-packages (from requests<3,>=2.21.0->tensorboard<2.2.0,>=2.1.0->tensorflow->snntoolbox) (2020.4.5.1)\n",
      "Requirement already satisfied: oauthlib>=3.0.0 in c:\\users\\kaliv\\.conda\\envs\\nengo\\lib\\site-packages (from requests-oauthlib>=0.7.0->google-auth-oauthlib<0.5,>=0.4.1->tensorboard<2.2.0,>=2.1.0->tensorflow->snntoolbox) (3.1.0)\n",
      "Requirement already satisfied: pyasn1>=0.1.3 in c:\\users\\kaliv\\.conda\\envs\\nengo\\lib\\site-packages (from rsa<4.1,>=3.1.4->google-auth<2,>=1.6.3->tensorboard<2.2.0,>=2.1.0->tensorflow->snntoolbox) (0.4.8)\n",
      "Installing collected packages: snntoolbox\n",
      "  Attempting uninstall: snntoolbox\n",
      "    Found existing installation: snntoolbox 0.4.1\n",
      "    Uninstalling snntoolbox-0.4.1:\n",
      "      Successfully uninstalled snntoolbox-0.4.1\n",
      "  Running setup.py develop for snntoolbox\n",
      "Successfully installed snntoolbox\n"
     ]
    },
    {
     "name": "stderr",
     "output_type": "stream",
     "text": [
      "  Running command git fetch -q --tags\n",
      "  Running command git reset --hard -q a8cdbc18b91c4d7dea924e57e2c65a092b0116dc\n"
     ]
    }
   ],
   "source": [
    "# if SNN-Toolbox is not installed yet, run this cell\n",
    "!pip install -e git+https://github.com/NeuromorphicProcessorProject/snn_toolbox.git#egg=snntoolbox\n",
    "    \n",
    "import train_keras\n",
    "import SNN-Toolbox\n",
    "\n",
    "train_keras.train()\n",
    "SNN-Toolbox.config_and_sim()"
   ]
  }
 ],
 "metadata": {
  "kernelspec": {
   "display_name": "Python 3",
   "language": "python",
   "name": "python3"
  },
  "language_info": {
   "codemirror_mode": {
    "name": "ipython",
    "version": 3
   },
   "file_extension": ".py",
   "mimetype": "text/x-python",
   "name": "python",
   "nbconvert_exporter": "python",
   "pygments_lexer": "ipython3",
   "version": "3.7.7"
  }
 },
 "nbformat": 4,
 "nbformat_minor": 4
}
